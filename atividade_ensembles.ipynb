{
  "nbformat": 4,
  "nbformat_minor": 0,
  "metadata": {
    "colab": {
      "provenance": [],
      "authorship_tag": "ABX9TyN1/yA5QwYZ35bTnn7ypA+x",
      "include_colab_link": true
    },
    "kernelspec": {
      "name": "python3",
      "display_name": "Python 3"
    },
    "language_info": {
      "name": "python"
    }
  },
  "cells": [
    {
      "cell_type": "markdown",
      "metadata": {
        "id": "view-in-github",
        "colab_type": "text"
      },
      "source": [
        "<a href=\"https://colab.research.google.com/github/ernanibn/reconhecimento_padroes_23/blob/main/atividade_ensembles.ipynb\" target=\"_parent\"><img src=\"https://colab.research.google.com/assets/colab-badge.svg\" alt=\"Open In Colab\"/></a>"
      ]
    },
    {
      "cell_type": "code",
      "source": [
        "from sklearn.datasets import load_iris\n",
        "\n",
        "iris = load_iris()\n",
        "\n",
        "X, y = np.array(iris.data[:, 2:]), np.array(iris.target)"
      ],
      "metadata": {
        "id": "TxggQz-5sv9N"
      },
      "execution_count": 102,
      "outputs": []
    },
    {
      "cell_type": "code",
      "execution_count": 103,
      "metadata": {
        "colab": {
          "base_uri": "https://localhost:8080/"
        },
        "id": "87iSMD5xrwO5",
        "outputId": "89459539-0cbc-4e7c-b849-11389be58083"
      },
      "outputs": [
        {
          "output_type": "execute_result",
          "data": {
            "text/plain": [
              "(array([0.96666667, 0.93333333, 0.86666667, 0.93333333, 0.93333333]),\n",
              " 0.9266666666666667)"
            ]
          },
          "metadata": {},
          "execution_count": 103
        }
      ],
      "source": [
        "from sklearn.base import BaseEstimator, ClassifierMixin\n",
        "from collections import Counter\n",
        "from sklearn.model_selection import cross_validate\n",
        "import numpy as np\n",
        "from sklearn.metrics import accuracy_score\n",
        "\n",
        "\n",
        "\n",
        "def maisFrequente(y):\n",
        "  return Counter(y.flat).most_common(1)[0][0]\n",
        "\n",
        "# BaseEstimator, ClassifierMixin classes para executar os scores\n",
        "class Arvore(BaseEstimator, ClassifierMixin):\n",
        "  def __init__(self):\n",
        "    self.caracteristica = 0\n",
        "\n",
        "  def fit(self, X, y):\n",
        "    self.valor = int(np.mean(X[:, self.caracteristica]))\n",
        "    maiores = X[:, self.caracteristica] > self.valor\n",
        "    if sum(maiores) > 0.0 and sum(~maiores)>0.0:\n",
        "      self.maiores = Arvore()\n",
        "      self.maiores.fit(X[maiores, :], y[maiores])\n",
        "      self.menores = Arvore()\n",
        "      self.menores.fit(X[~maiores, :], y[~maiores])\n",
        "    else:\n",
        "      self.resposta = maisFrequente(y)\n",
        "      return self\n",
        "\n",
        "  def predict(self, X):\n",
        "    y = np.empty((X.shape[0]), dtype=int)\n",
        "    if hasattr(self, 'resposta'):\n",
        "      y[:] = self.resposta\n",
        "    else:\n",
        "      maiores = X[:, self.caracteristica] > self.valor\n",
        "      y[maiores] = self.maiores.predict(X[maiores, :])\n",
        "      y[~maiores] = self.menores.predict(X[~maiores, :])\n",
        "    return y\n",
        "\n",
        "modelo = Arvore()\n",
        "modelo.fit(X, y)\n",
        "ypred = modelo.predict(X)\n",
        "accuracy_score(y, ypred), (ypred==y)\n",
        "\n",
        "from sklearn.ensemble import BaggingClassifier\n",
        "\n",
        "modelo = BaggingClassifier(Arvore(), n_estimators=100)\n",
        "results = cross_validate(modelo, X, y)\n",
        "results['test_score'], np.mean(results['test_score'])"
      ]
    }
  ]
}